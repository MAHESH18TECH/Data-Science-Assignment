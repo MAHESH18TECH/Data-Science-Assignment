{
 "cells": [
  {
   "cell_type": "code",
   "execution_count": 2,
   "id": "1653d099",
   "metadata": {},
   "outputs": [],
   "source": [
    "import pandas as pd\n",
    "from rapidfuzz import fuzz"
   ]
  },
  {
   "cell_type": "code",
   "execution_count": 3,
   "id": "ada2f03c",
   "metadata": {},
   "outputs": [],
   "source": [
    "df = pd.read_csv(r'amazon_sample.csv',encoding='latin1')\n",
    "ef = pd.read_csv(r'flipkart_sample.csv',encoding='latin1')"
   ]
  },
  {
   "cell_type": "code",
   "execution_count": null,
   "id": "06dbef20",
   "metadata": {},
   "outputs": [],
   "source": [
    "df['Match'] = ''\n",
    "for index, row in df.iterrows():\n",
    "    matches = []\n",
    "    for i, r in ef.iterrows():\n",
    "        score = fuzz.ratio(row['product_name'], r['product_name'])\n",
    "        if score >= 90:\n",
    "            matches.append([row['product_name'], row['retail_price'],row['discounted_price'],r['product_name'], r['retail_price'],r['discounted_price']])\n",
    "        else:\n",
    "            pass"
   ]
  },
  {
   "cell_type": "code",
   "execution_count": null,
   "id": "4af774eb",
   "metadata": {},
   "outputs": [],
   "source": [
    "print(matches)"
   ]
  },
  {
   "cell_type": "code",
   "execution_count": null,
   "id": "9143f4b2",
   "metadata": {},
   "outputs": [],
   "source": []
  }
 ],
 "metadata": {
  "kernelspec": {
   "display_name": "Python 3 (ipykernel)",
   "language": "python",
   "name": "python3"
  },
  "language_info": {
   "codemirror_mode": {
    "name": "ipython",
    "version": 3
   },
   "file_extension": ".py",
   "mimetype": "text/x-python",
   "name": "python",
   "nbconvert_exporter": "python",
   "pygments_lexer": "ipython3",
   "version": "3.9.12"
  }
 },
 "nbformat": 4,
 "nbformat_minor": 5
}
